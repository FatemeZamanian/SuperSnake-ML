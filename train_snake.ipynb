{
  "nbformat": 4,
  "nbformat_minor": 0,
  "metadata": {
    "colab": {
      "name": "train_snake.ipynb",
      "provenance": [],
      "mount_file_id": "1wywPoaTYDZ66AUg7lf62uKLc61ZR0R-a",
      "authorship_tag": "ABX9TyMF/srZjNlMlCyTAHkXAwHA",
      "include_colab_link": true
    },
    "kernelspec": {
      "name": "python3",
      "display_name": "Python 3"
    },
    "language_info": {
      "name": "python"
    }
  },
  "cells": [
    {
      "cell_type": "markdown",
      "metadata": {
        "id": "view-in-github",
        "colab_type": "text"
      },
      "source": [
        "<a href=\"https://colab.research.google.com/github/FatemeZamanian/SuperSnake-ML/blob/master/train_snake.ipynb\" target=\"_parent\"><img src=\"https://colab.research.google.com/assets/colab-badge.svg\" alt=\"Open In Colab\"/></a>"
      ]
    },
    {
      "cell_type": "code",
      "metadata": {
        "colab": {
          "base_uri": "https://localhost:8080/"
        },
        "id": "GpMR1OcNxERB",
        "outputId": "4df8a8d6-6135-4409-cb41-28741d16f57c"
      },
      "source": [
        "!pip install wandb"
      ],
      "execution_count": 1,
      "outputs": [
        {
          "output_type": "stream",
          "name": "stdout",
          "text": [
            "Collecting wandb\n",
            "  Downloading wandb-0.12.2-py2.py3-none-any.whl (1.7 MB)\n",
            "\u001b[K     |████████████████████████████████| 1.7 MB 9.1 MB/s \n",
            "\u001b[?25hCollecting GitPython>=1.0.0\n",
            "  Downloading GitPython-3.1.18-py3-none-any.whl (170 kB)\n",
            "\u001b[K     |████████████████████████████████| 170 kB 58.8 MB/s \n",
            "\u001b[?25hCollecting shortuuid>=0.5.0\n",
            "  Downloading shortuuid-1.0.1-py3-none-any.whl (7.5 kB)\n",
            "Requirement already satisfied: protobuf>=3.12.0 in /usr/local/lib/python3.7/dist-packages (from wandb) (3.17.3)\n",
            "Collecting sentry-sdk>=1.0.0\n",
            "  Downloading sentry_sdk-1.3.1-py2.py3-none-any.whl (133 kB)\n",
            "\u001b[K     |████████████████████████████████| 133 kB 50.6 MB/s \n",
            "\u001b[?25hCollecting pathtools\n",
            "  Downloading pathtools-0.1.2.tar.gz (11 kB)\n",
            "Requirement already satisfied: Click!=8.0.0,>=7.0 in /usr/local/lib/python3.7/dist-packages (from wandb) (7.1.2)\n",
            "Requirement already satisfied: requests<3,>=2.0.0 in /usr/local/lib/python3.7/dist-packages (from wandb) (2.23.0)\n",
            "Collecting configparser>=3.8.1\n",
            "  Downloading configparser-5.0.2-py3-none-any.whl (19 kB)\n",
            "Requirement already satisfied: promise<3,>=2.0 in /usr/local/lib/python3.7/dist-packages (from wandb) (2.3)\n",
            "Requirement already satisfied: python-dateutil>=2.6.1 in /usr/local/lib/python3.7/dist-packages (from wandb) (2.8.2)\n",
            "Collecting yaspin>=1.0.0\n",
            "  Downloading yaspin-2.1.0-py3-none-any.whl (18 kB)\n",
            "Collecting subprocess32>=3.5.3\n",
            "  Downloading subprocess32-3.5.4.tar.gz (97 kB)\n",
            "\u001b[K     |████████████████████████████████| 97 kB 7.1 MB/s \n",
            "\u001b[?25hCollecting docker-pycreds>=0.4.0\n",
            "  Downloading docker_pycreds-0.4.0-py2.py3-none-any.whl (9.0 kB)\n",
            "Requirement already satisfied: six>=1.13.0 in /usr/local/lib/python3.7/dist-packages (from wandb) (1.15.0)\n",
            "Requirement already satisfied: psutil>=5.0.0 in /usr/local/lib/python3.7/dist-packages (from wandb) (5.4.8)\n",
            "Requirement already satisfied: PyYAML in /usr/local/lib/python3.7/dist-packages (from wandb) (3.13)\n",
            "Collecting gitdb<5,>=4.0.1\n",
            "  Downloading gitdb-4.0.7-py3-none-any.whl (63 kB)\n",
            "\u001b[K     |████████████████████████████████| 63 kB 1.9 MB/s \n",
            "\u001b[?25hRequirement already satisfied: typing-extensions>=3.7.4.0 in /usr/local/lib/python3.7/dist-packages (from GitPython>=1.0.0->wandb) (3.7.4.3)\n",
            "Collecting smmap<5,>=3.0.1\n",
            "  Downloading smmap-4.0.0-py2.py3-none-any.whl (24 kB)\n",
            "Requirement already satisfied: urllib3!=1.25.0,!=1.25.1,<1.26,>=1.21.1 in /usr/local/lib/python3.7/dist-packages (from requests<3,>=2.0.0->wandb) (1.24.3)\n",
            "Requirement already satisfied: certifi>=2017.4.17 in /usr/local/lib/python3.7/dist-packages (from requests<3,>=2.0.0->wandb) (2021.5.30)\n",
            "Requirement already satisfied: chardet<4,>=3.0.2 in /usr/local/lib/python3.7/dist-packages (from requests<3,>=2.0.0->wandb) (3.0.4)\n",
            "Requirement already satisfied: idna<3,>=2.5 in /usr/local/lib/python3.7/dist-packages (from requests<3,>=2.0.0->wandb) (2.10)\n",
            "Requirement already satisfied: termcolor<2.0.0,>=1.1.0 in /usr/local/lib/python3.7/dist-packages (from yaspin>=1.0.0->wandb) (1.1.0)\n",
            "Building wheels for collected packages: subprocess32, pathtools\n",
            "  Building wheel for subprocess32 (setup.py) ... \u001b[?25l\u001b[?25hdone\n",
            "  Created wheel for subprocess32: filename=subprocess32-3.5.4-py3-none-any.whl size=6502 sha256=2d8d9780c8418ac118d405c20d1b346fe30d71dd707b0190e3502d5c0cb5228f\n",
            "  Stored in directory: /root/.cache/pip/wheels/50/ca/fa/8fca8d246e64f19488d07567547ddec8eb084e8c0d7a59226a\n",
            "  Building wheel for pathtools (setup.py) ... \u001b[?25l\u001b[?25hdone\n",
            "  Created wheel for pathtools: filename=pathtools-0.1.2-py3-none-any.whl size=8807 sha256=060bc270221c92436d0eb706c2b38d0e74325baa36a6b3b492fc2c2659449357\n",
            "  Stored in directory: /root/.cache/pip/wheels/3e/31/09/fa59cef12cdcfecc627b3d24273699f390e71828921b2cbba2\n",
            "Successfully built subprocess32 pathtools\n",
            "Installing collected packages: smmap, gitdb, yaspin, subprocess32, shortuuid, sentry-sdk, pathtools, GitPython, docker-pycreds, configparser, wandb\n",
            "Successfully installed GitPython-3.1.18 configparser-5.0.2 docker-pycreds-0.4.0 gitdb-4.0.7 pathtools-0.1.2 sentry-sdk-1.3.1 shortuuid-1.0.1 smmap-4.0.0 subprocess32-3.5.4 wandb-0.12.2 yaspin-2.1.0\n"
          ]
        }
      ]
    },
    {
      "cell_type": "code",
      "metadata": {
        "id": "0HEBRvelypnZ"
      },
      "source": [
        "import wandb\n",
        "import pandas as pd\n",
        "import numpy as np\n",
        "import tensorflow as tf"
      ],
      "execution_count": 3,
      "outputs": []
    },
    {
      "cell_type": "code",
      "metadata": {
        "id": "FGSc79LVy70k",
        "colab": {
          "base_uri": "https://localhost:8080/"
        },
        "outputId": "d9475063-1fa8-44b8-faf9-7064e33f2970"
      },
      "source": [
        "data=pd.read_csv('/content/drive/MyDrive/train_snake.csv')\n",
        "print(data.head())\n",
        "X=data[['w0','w1','w2','w3','a0','a1','a2','a3']]\n",
        "Y=data[['direction']]"
      ],
      "execution_count": 7,
      "outputs": [
        {
          "output_type": "stream",
          "name": "stdout",
          "text": [
            "      w0     w1     w2     w3   a0   a1    a2   a3  direction\n",
            "0  200.0  190.0  200.0  210.0  0.0  3.0  98.0  0.0          1\n",
            "1  210.0  190.0  190.0  210.0  0.0  3.0  88.0  0.0          2\n",
            "2  220.0  190.0  180.0  210.0  0.0  3.0  78.0  0.0          2\n",
            "3  230.0  190.0  170.0  210.0  0.0  3.0  68.0  0.0          2\n",
            "4  240.0  190.0  160.0  210.0  0.0  3.0  58.0  0.0          2\n"
          ]
        }
      ]
    },
    {
      "cell_type": "code",
      "metadata": {
        "id": "_I3yjY0n69U5"
      },
      "source": [
        "from sklearn.model_selection import train_test_split\n",
        "X_train, X_test, Y_train, Y_test = train_test_split(X, Y, test_size=0.15, random_state=25)\n",
        "X_train=np.array(X_train) \n",
        "X_test=np.array(X_test) \n",
        "Y_train=np.array(Y_train) \n",
        "Y_test=np.array(Y_test)"
      ],
      "execution_count": 8,
      "outputs": []
    },
    {
      "cell_type": "code",
      "metadata": {
        "colab": {
          "base_uri": "https://localhost:8080/",
          "height": 180
        },
        "id": "VIEYtJ5Hy8Ab",
        "outputId": "81ce86a2-5b98-4e5b-8da5-285f24ac559e"
      },
      "source": [
        "wandb.init(project='SuperSnake', entity='fatemezamanian')\n",
        "from wandb.keras import WandbCallback"
      ],
      "execution_count": 9,
      "outputs": [
        {
          "output_type": "display_data",
          "data": {
            "application/javascript": [
              "\n",
              "        window._wandbApiKey = new Promise((resolve, reject) => {\n",
              "            function loadScript(url) {\n",
              "            return new Promise(function(resolve, reject) {\n",
              "                let newScript = document.createElement(\"script\");\n",
              "                newScript.onerror = reject;\n",
              "                newScript.onload = resolve;\n",
              "                document.body.appendChild(newScript);\n",
              "                newScript.src = url;\n",
              "            });\n",
              "            }\n",
              "            loadScript(\"https://cdn.jsdelivr.net/npm/postmate/build/postmate.min.js\").then(() => {\n",
              "            const iframe = document.createElement('iframe')\n",
              "            iframe.style.cssText = \"width:0;height:0;border:none\"\n",
              "            document.body.appendChild(iframe)\n",
              "            const handshake = new Postmate({\n",
              "                container: iframe,\n",
              "                url: 'https://wandb.ai/authorize'\n",
              "            });\n",
              "            const timeout = setTimeout(() => reject(\"Couldn't auto authenticate\"), 5000)\n",
              "            handshake.then(function(child) {\n",
              "                child.on('authorize', data => {\n",
              "                    clearTimeout(timeout)\n",
              "                    resolve(data)\n",
              "                });\n",
              "            });\n",
              "            })\n",
              "        });\n",
              "    "
            ],
            "text/plain": [
              "<IPython.core.display.Javascript object>"
            ]
          },
          "metadata": {}
        },
        {
          "output_type": "stream",
          "name": "stderr",
          "text": [
            "\u001b[34m\u001b[1mwandb\u001b[0m: You can find your API key in your browser here: https://wandb.ai/authorize\n"
          ]
        },
        {
          "name": "stdout",
          "output_type": "stream",
          "text": [
            "wandb: Paste an API key from your profile and hit enter: ··········\n"
          ]
        },
        {
          "output_type": "stream",
          "name": "stderr",
          "text": [
            "\u001b[34m\u001b[1mwandb\u001b[0m: Appending key for api.wandb.ai to your netrc file: /root/.netrc\n"
          ]
        },
        {
          "output_type": "display_data",
          "data": {
            "text/html": [
              "\n",
              "                Tracking run with wandb version 0.12.2<br/>\n",
              "                Syncing run <strong style=\"color:#cdcd00\">wise-sunset-9</strong> to <a href=\"https://wandb.ai\" target=\"_blank\">Weights & Biases</a> <a href=\"https://docs.wandb.com/integrations/jupyter.html\" target=\"_blank\">(Documentation)</a>.<br/>\n",
              "                Project page: <a href=\"https://wandb.ai/fatemezamanian/SuperSnake\" target=\"_blank\">https://wandb.ai/fatemezamanian/SuperSnake</a><br/>\n",
              "                Run page: <a href=\"https://wandb.ai/fatemezamanian/SuperSnake/runs/1ttch4ei\" target=\"_blank\">https://wandb.ai/fatemezamanian/SuperSnake/runs/1ttch4ei</a><br/>\n",
              "                Run data is saved locally in <code>/content/wandb/run-20210916_182015-1ttch4ei</code><br/><br/>\n",
              "            "
            ],
            "text/plain": [
              "<IPython.core.display.HTML object>"
            ]
          },
          "metadata": {}
        }
      ]
    },
    {
      "cell_type": "code",
      "metadata": {
        "id": "DYFy45K8zl2c"
      },
      "source": [
        "model = tf.keras.models.Sequential([\n",
        "    tf.keras.layers.Dense(30, activation='relu'),\n",
        "    tf.keras.layers.Dense(124, activation='relu'),\n",
        "    # tf.keras.layers.Dense(1476, activation='relu'),\n",
        "    #tf.keras.layers.Dense(112, activation='relu'),\n",
        "    tf.keras.layers.Dense(1476, activation='relu'),\n",
        "    tf.keras.layers.Dense(24, activation='relu'),\n",
        "    tf.keras.layers.Dense(4, activation='softmax')\n",
        "])"
      ],
      "execution_count": 10,
      "outputs": []
    },
    {
      "cell_type": "code",
      "metadata": {
        "id": "yqahYFd3zr80"
      },
      "source": [
        "model.compile(optimizer=tf.keras.optimizers.SGD(learning_rate=0.005),\n",
        "              loss=tf.keras.losses.sparse_categorical_crossentropy,metrics=['accuracy'])"
      ],
      "execution_count": 11,
      "outputs": []
    },
    {
      "cell_type": "code",
      "metadata": {
        "colab": {
          "base_uri": "https://localhost:8080/"
        },
        "id": "Z929tuWgzw2q",
        "outputId": "08398745-6038-459e-b262-0f738988e8a5"
      },
      "source": [
        "config = wandb.config\n",
        "config.learning_rate = 0.005\n",
        "out=model.fit(X_train,Y_train,validation_data=(X_test,Y_test),epochs=100,callbacks=[WandbCallback()])"
      ],
      "execution_count": 12,
      "outputs": [
        {
          "output_type": "stream",
          "name": "stdout",
          "text": [
            "Epoch 1/100\n",
            "2727/2727 [==============================] - 12s 4ms/step - loss: 0.6595 - accuracy: 0.8148 - val_loss: 0.4526 - val_accuracy: 0.8640\n",
            "Epoch 2/100\n",
            "2727/2727 [==============================] - 11s 4ms/step - loss: 0.4592 - accuracy: 0.8619 - val_loss: 0.4245 - val_accuracy: 0.8849\n",
            "Epoch 3/100\n",
            "2727/2727 [==============================] - 11s 4ms/step - loss: 0.4396 - accuracy: 0.8695 - val_loss: 0.4161 - val_accuracy: 0.8769\n",
            "Epoch 4/100\n",
            "2727/2727 [==============================] - 11s 4ms/step - loss: 0.4254 - accuracy: 0.8752 - val_loss: 0.4523 - val_accuracy: 0.8697\n",
            "Epoch 5/100\n",
            "2727/2727 [==============================] - 11s 4ms/step - loss: 0.4186 - accuracy: 0.8776 - val_loss: 0.4112 - val_accuracy: 0.8829\n",
            "Epoch 6/100\n",
            "2727/2727 [==============================] - 11s 4ms/step - loss: 0.4135 - accuracy: 0.8803 - val_loss: 0.4043 - val_accuracy: 0.8843\n",
            "Epoch 7/100\n",
            "2727/2727 [==============================] - 11s 4ms/step - loss: 0.4074 - accuracy: 0.8822 - val_loss: 0.3959 - val_accuracy: 0.8882\n",
            "Epoch 8/100\n",
            "2727/2727 [==============================] - 11s 4ms/step - loss: 0.4048 - accuracy: 0.8820 - val_loss: 0.4015 - val_accuracy: 0.8866\n",
            "Epoch 9/100\n",
            "2727/2727 [==============================] - 11s 4ms/step - loss: 0.4025 - accuracy: 0.8833 - val_loss: 0.4224 - val_accuracy: 0.8764\n",
            "Epoch 10/100\n",
            "2727/2727 [==============================] - 13s 5ms/step - loss: 0.3984 - accuracy: 0.8847 - val_loss: 0.3953 - val_accuracy: 0.8860\n",
            "Epoch 11/100\n",
            "2727/2727 [==============================] - 11s 4ms/step - loss: 0.3954 - accuracy: 0.8855 - val_loss: 0.3897 - val_accuracy: 0.8875\n",
            "Epoch 12/100\n",
            "2727/2727 [==============================] - 12s 4ms/step - loss: 0.3948 - accuracy: 0.8856 - val_loss: 0.4148 - val_accuracy: 0.8804\n",
            "Epoch 13/100\n",
            "2727/2727 [==============================] - 11s 4ms/step - loss: 0.3919 - accuracy: 0.8862 - val_loss: 0.4329 - val_accuracy: 0.8771\n",
            "Epoch 14/100\n",
            "2727/2727 [==============================] - 12s 4ms/step - loss: 0.3900 - accuracy: 0.8868 - val_loss: 0.4228 - val_accuracy: 0.8681\n",
            "Epoch 15/100\n",
            "2727/2727 [==============================] - 12s 4ms/step - loss: 0.3889 - accuracy: 0.8876 - val_loss: 0.3830 - val_accuracy: 0.8910\n",
            "Epoch 16/100\n",
            "2727/2727 [==============================] - 11s 4ms/step - loss: 0.3864 - accuracy: 0.8883 - val_loss: 0.3926 - val_accuracy: 0.8862\n",
            "Epoch 17/100\n",
            "2727/2727 [==============================] - 11s 4ms/step - loss: 0.3853 - accuracy: 0.8888 - val_loss: 0.3766 - val_accuracy: 0.8951\n",
            "Epoch 18/100\n",
            "2727/2727 [==============================] - 12s 4ms/step - loss: 0.3843 - accuracy: 0.8890 - val_loss: 0.3884 - val_accuracy: 0.8896\n",
            "Epoch 19/100\n",
            "2727/2727 [==============================] - 11s 4ms/step - loss: 0.3822 - accuracy: 0.8897 - val_loss: 0.3794 - val_accuracy: 0.8921\n",
            "Epoch 20/100\n",
            "2727/2727 [==============================] - 11s 4ms/step - loss: 0.3832 - accuracy: 0.8893 - val_loss: 0.3770 - val_accuracy: 0.8927\n",
            "Epoch 21/100\n",
            "2727/2727 [==============================] - 12s 4ms/step - loss: 0.3809 - accuracy: 0.8901 - val_loss: 0.3759 - val_accuracy: 0.8926\n",
            "Epoch 22/100\n",
            "2727/2727 [==============================] - 11s 4ms/step - loss: 0.3797 - accuracy: 0.8902 - val_loss: 0.3861 - val_accuracy: 0.8908\n",
            "Epoch 23/100\n",
            "2727/2727 [==============================] - 12s 4ms/step - loss: 0.3781 - accuracy: 0.8914 - val_loss: 0.4245 - val_accuracy: 0.8751\n",
            "Epoch 24/100\n",
            "2727/2727 [==============================] - 11s 4ms/step - loss: 0.3782 - accuracy: 0.8905 - val_loss: 0.3928 - val_accuracy: 0.8875\n",
            "Epoch 25/100\n",
            "2727/2727 [==============================] - 11s 4ms/step - loss: 0.3768 - accuracy: 0.8914 - val_loss: 0.3692 - val_accuracy: 0.8953\n",
            "Epoch 26/100\n",
            "2727/2727 [==============================] - 11s 4ms/step - loss: 0.3768 - accuracy: 0.8915 - val_loss: 0.4922 - val_accuracy: 0.8333\n",
            "Epoch 27/100\n",
            "2727/2727 [==============================] - 12s 4ms/step - loss: 0.3757 - accuracy: 0.8917 - val_loss: 0.3746 - val_accuracy: 0.8941\n",
            "Epoch 28/100\n",
            "2727/2727 [==============================] - 11s 4ms/step - loss: 0.3741 - accuracy: 0.8916 - val_loss: 0.3811 - val_accuracy: 0.8922\n",
            "Epoch 29/100\n",
            "2727/2727 [==============================] - 12s 4ms/step - loss: 0.3736 - accuracy: 0.8922 - val_loss: 0.3725 - val_accuracy: 0.8936\n",
            "Epoch 30/100\n",
            "2727/2727 [==============================] - 12s 4ms/step - loss: 0.3736 - accuracy: 0.8922 - val_loss: 0.3737 - val_accuracy: 0.8949\n",
            "Epoch 31/100\n",
            "2727/2727 [==============================] - 11s 4ms/step - loss: 0.3733 - accuracy: 0.8917 - val_loss: 0.3739 - val_accuracy: 0.8954\n",
            "Epoch 32/100\n",
            "2727/2727 [==============================] - 11s 4ms/step - loss: 0.3723 - accuracy: 0.8923 - val_loss: 0.3842 - val_accuracy: 0.8901\n",
            "Epoch 33/100\n",
            "2727/2727 [==============================] - 11s 4ms/step - loss: 0.3713 - accuracy: 0.8932 - val_loss: 0.3705 - val_accuracy: 0.8953\n",
            "Epoch 34/100\n",
            "2727/2727 [==============================] - 11s 4ms/step - loss: 0.3701 - accuracy: 0.8932 - val_loss: 0.3869 - val_accuracy: 0.8879\n",
            "Epoch 35/100\n",
            "2727/2727 [==============================] - 11s 4ms/step - loss: 0.3701 - accuracy: 0.8938 - val_loss: 0.3849 - val_accuracy: 0.8921\n",
            "Epoch 36/100\n",
            "2727/2727 [==============================] - 12s 4ms/step - loss: 0.3688 - accuracy: 0.8932 - val_loss: 0.3820 - val_accuracy: 0.8929\n",
            "Epoch 37/100\n",
            "2727/2727 [==============================] - 11s 4ms/step - loss: 0.3692 - accuracy: 0.8930 - val_loss: 0.3798 - val_accuracy: 0.8918\n",
            "Epoch 38/100\n",
            "2727/2727 [==============================] - 12s 4ms/step - loss: 0.3674 - accuracy: 0.8946 - val_loss: 0.3809 - val_accuracy: 0.8929\n",
            "Epoch 39/100\n",
            "2727/2727 [==============================] - 12s 4ms/step - loss: 0.3679 - accuracy: 0.8937 - val_loss: 0.3922 - val_accuracy: 0.8885\n",
            "Epoch 40/100\n",
            "2727/2727 [==============================] - 11s 4ms/step - loss: 0.3666 - accuracy: 0.8943 - val_loss: 0.3729 - val_accuracy: 0.8949\n",
            "Epoch 41/100\n",
            "2727/2727 [==============================] - 12s 4ms/step - loss: 0.3660 - accuracy: 0.8945 - val_loss: 0.3761 - val_accuracy: 0.8955\n",
            "Epoch 42/100\n",
            "2727/2727 [==============================] - 11s 4ms/step - loss: 0.3653 - accuracy: 0.8947 - val_loss: 0.3728 - val_accuracy: 0.8948\n",
            "Epoch 43/100\n",
            "2727/2727 [==============================] - 12s 4ms/step - loss: 0.3653 - accuracy: 0.8944 - val_loss: 0.3780 - val_accuracy: 0.8925\n",
            "Epoch 44/100\n",
            "2727/2727 [==============================] - 12s 4ms/step - loss: 0.3644 - accuracy: 0.8948 - val_loss: 0.3776 - val_accuracy: 0.8953\n",
            "Epoch 45/100\n",
            "2727/2727 [==============================] - 12s 4ms/step - loss: 0.3643 - accuracy: 0.8949 - val_loss: 0.3730 - val_accuracy: 0.8948\n",
            "Epoch 46/100\n",
            "2727/2727 [==============================] - 11s 4ms/step - loss: 0.3639 - accuracy: 0.8946 - val_loss: 0.3766 - val_accuracy: 0.8926\n",
            "Epoch 47/100\n",
            "2727/2727 [==============================] - 12s 4ms/step - loss: 0.3624 - accuracy: 0.8947 - val_loss: 0.3659 - val_accuracy: 0.8968\n",
            "Epoch 48/100\n",
            "2727/2727 [==============================] - 12s 4ms/step - loss: 0.3619 - accuracy: 0.8954 - val_loss: 0.3714 - val_accuracy: 0.8960\n",
            "Epoch 49/100\n",
            "2727/2727 [==============================] - 12s 4ms/step - loss: 0.3620 - accuracy: 0.8951 - val_loss: 0.3715 - val_accuracy: 0.8965\n",
            "Epoch 50/100\n",
            "2727/2727 [==============================] - 12s 4ms/step - loss: 0.3618 - accuracy: 0.8950 - val_loss: 0.3717 - val_accuracy: 0.8954\n",
            "Epoch 51/100\n",
            "2727/2727 [==============================] - 11s 4ms/step - loss: 0.3607 - accuracy: 0.8958 - val_loss: 0.3680 - val_accuracy: 0.8984\n",
            "Epoch 52/100\n",
            "2727/2727 [==============================] - 12s 4ms/step - loss: 0.3603 - accuracy: 0.8959 - val_loss: 0.3691 - val_accuracy: 0.8955\n",
            "Epoch 53/100\n",
            "2727/2727 [==============================] - 11s 4ms/step - loss: 0.3601 - accuracy: 0.8957 - val_loss: 0.3728 - val_accuracy: 0.8953\n",
            "Epoch 54/100\n",
            "2727/2727 [==============================] - 12s 4ms/step - loss: 0.3587 - accuracy: 0.8960 - val_loss: 0.3876 - val_accuracy: 0.8888\n",
            "Epoch 55/100\n",
            "2727/2727 [==============================] - 12s 4ms/step - loss: 0.3595 - accuracy: 0.8959 - val_loss: 0.3668 - val_accuracy: 0.8976\n",
            "Epoch 56/100\n",
            "2727/2727 [==============================] - 12s 4ms/step - loss: 0.3590 - accuracy: 0.8959 - val_loss: 0.3725 - val_accuracy: 0.8944\n",
            "Epoch 57/100\n",
            "2727/2727 [==============================] - 11s 4ms/step - loss: 0.3579 - accuracy: 0.8958 - val_loss: 0.3701 - val_accuracy: 0.8973\n",
            "Epoch 58/100\n",
            "2727/2727 [==============================] - 12s 4ms/step - loss: 0.3585 - accuracy: 0.8957 - val_loss: 0.3696 - val_accuracy: 0.8966\n",
            "Epoch 59/100\n",
            "2727/2727 [==============================] - 12s 4ms/step - loss: 0.3582 - accuracy: 0.8959 - val_loss: 0.3716 - val_accuracy: 0.8958\n",
            "Epoch 60/100\n",
            "2727/2727 [==============================] - 12s 4ms/step - loss: 0.3570 - accuracy: 0.8968 - val_loss: 0.3708 - val_accuracy: 0.8962\n",
            "Epoch 61/100\n",
            "2727/2727 [==============================] - 12s 4ms/step - loss: 0.3566 - accuracy: 0.8964 - val_loss: 0.3748 - val_accuracy: 0.8938\n",
            "Epoch 62/100\n",
            "2727/2727 [==============================] - 11s 4ms/step - loss: 0.3567 - accuracy: 0.8965 - val_loss: 0.3691 - val_accuracy: 0.8957\n",
            "Epoch 63/100\n",
            "2727/2727 [==============================] - 11s 4ms/step - loss: 0.3542 - accuracy: 0.8976 - val_loss: 0.3694 - val_accuracy: 0.8960\n",
            "Epoch 64/100\n",
            "2727/2727 [==============================] - 12s 4ms/step - loss: 0.3553 - accuracy: 0.8971 - val_loss: 0.3666 - val_accuracy: 0.8973\n",
            "Epoch 65/100\n",
            "2727/2727 [==============================] - 11s 4ms/step - loss: 0.3535 - accuracy: 0.8976 - val_loss: 0.3682 - val_accuracy: 0.8968\n",
            "Epoch 66/100\n",
            "2727/2727 [==============================] - 11s 4ms/step - loss: 0.3551 - accuracy: 0.8970 - val_loss: 0.3655 - val_accuracy: 0.8975\n",
            "Epoch 67/100\n",
            "2727/2727 [==============================] - 12s 4ms/step - loss: 0.3537 - accuracy: 0.8970 - val_loss: 0.3704 - val_accuracy: 0.8959\n",
            "Epoch 68/100\n",
            "2727/2727 [==============================] - 11s 4ms/step - loss: 0.3535 - accuracy: 0.8972 - val_loss: 0.3761 - val_accuracy: 0.8952\n",
            "Epoch 69/100\n",
            "2727/2727 [==============================] - 11s 4ms/step - loss: 0.3531 - accuracy: 0.8970 - val_loss: 0.3691 - val_accuracy: 0.8976\n",
            "Epoch 70/100\n",
            "2727/2727 [==============================] - 11s 4ms/step - loss: 0.3518 - accuracy: 0.8979 - val_loss: 0.3723 - val_accuracy: 0.8964\n",
            "Epoch 71/100\n",
            "2727/2727 [==============================] - 11s 4ms/step - loss: 0.3529 - accuracy: 0.8969 - val_loss: 0.3717 - val_accuracy: 0.8952\n",
            "Epoch 72/100\n",
            "2727/2727 [==============================] - 11s 4ms/step - loss: 0.3518 - accuracy: 0.8980 - val_loss: 0.3757 - val_accuracy: 0.8960\n",
            "Epoch 73/100\n",
            "2727/2727 [==============================] - 11s 4ms/step - loss: 0.3518 - accuracy: 0.8976 - val_loss: 0.3678 - val_accuracy: 0.8969\n",
            "Epoch 74/100\n",
            "2727/2727 [==============================] - 11s 4ms/step - loss: 0.3516 - accuracy: 0.8974 - val_loss: 0.3679 - val_accuracy: 0.8961\n",
            "Epoch 75/100\n",
            "2727/2727 [==============================] - 11s 4ms/step - loss: 0.3500 - accuracy: 0.8985 - val_loss: 0.3720 - val_accuracy: 0.8961\n",
            "Epoch 76/100\n",
            "2727/2727 [==============================] - 11s 4ms/step - loss: 0.3502 - accuracy: 0.8978 - val_loss: 0.3780 - val_accuracy: 0.8916\n",
            "Epoch 77/100\n",
            "2727/2727 [==============================] - 12s 4ms/step - loss: 0.3507 - accuracy: 0.8976 - val_loss: 0.3659 - val_accuracy: 0.8968\n",
            "Epoch 78/100\n",
            "2727/2727 [==============================] - 12s 4ms/step - loss: 0.3486 - accuracy: 0.8982 - val_loss: 0.3760 - val_accuracy: 0.8941\n",
            "Epoch 79/100\n",
            "2727/2727 [==============================] - 12s 4ms/step - loss: 0.3491 - accuracy: 0.8981 - val_loss: 0.3806 - val_accuracy: 0.8920\n",
            "Epoch 80/100\n",
            "2727/2727 [==============================] - 11s 4ms/step - loss: 0.3477 - accuracy: 0.8988 - val_loss: 0.3706 - val_accuracy: 0.8960\n",
            "Epoch 81/100\n",
            "2727/2727 [==============================] - 12s 4ms/step - loss: 0.3487 - accuracy: 0.8982 - val_loss: 0.3833 - val_accuracy: 0.8919\n",
            "Epoch 82/100\n",
            "2727/2727 [==============================] - 11s 4ms/step - loss: 0.3477 - accuracy: 0.8986 - val_loss: 0.3760 - val_accuracy: 0.8950\n",
            "Epoch 83/100\n",
            "2727/2727 [==============================] - 11s 4ms/step - loss: 0.3472 - accuracy: 0.8985 - val_loss: 0.3650 - val_accuracy: 0.8969\n",
            "Epoch 84/100\n",
            "2727/2727 [==============================] - 11s 4ms/step - loss: 0.3466 - accuracy: 0.8991 - val_loss: 0.3676 - val_accuracy: 0.8969\n",
            "Epoch 85/100\n",
            "2727/2727 [==============================] - 12s 4ms/step - loss: 0.3466 - accuracy: 0.8990 - val_loss: 0.3729 - val_accuracy: 0.8966\n",
            "Epoch 86/100\n",
            "2727/2727 [==============================] - 11s 4ms/step - loss: 0.3467 - accuracy: 0.8985 - val_loss: 0.3978 - val_accuracy: 0.8781\n",
            "Epoch 87/100\n",
            "2727/2727 [==============================] - 11s 4ms/step - loss: 0.3460 - accuracy: 0.8992 - val_loss: 0.3740 - val_accuracy: 0.8973\n",
            "Epoch 88/100\n",
            "2727/2727 [==============================] - 11s 4ms/step - loss: 0.3448 - accuracy: 0.8999 - val_loss: 0.3634 - val_accuracy: 0.8982\n",
            "Epoch 89/100\n",
            "2727/2727 [==============================] - 11s 4ms/step - loss: 0.3448 - accuracy: 0.8993 - val_loss: 0.3733 - val_accuracy: 0.8927\n",
            "Epoch 90/100\n",
            "2727/2727 [==============================] - 12s 4ms/step - loss: 0.3446 - accuracy: 0.8994 - val_loss: 0.3606 - val_accuracy: 0.8997\n",
            "Epoch 91/100\n",
            "2727/2727 [==============================] - 11s 4ms/step - loss: 0.3444 - accuracy: 0.8991 - val_loss: 0.3716 - val_accuracy: 0.8981\n",
            "Epoch 92/100\n",
            "2727/2727 [==============================] - 11s 4ms/step - loss: 0.3446 - accuracy: 0.8998 - val_loss: 0.3698 - val_accuracy: 0.8977\n",
            "Epoch 93/100\n",
            "2727/2727 [==============================] - 12s 4ms/step - loss: 0.3431 - accuracy: 0.9000 - val_loss: 0.3653 - val_accuracy: 0.8982\n",
            "Epoch 94/100\n",
            "2727/2727 [==============================] - 11s 4ms/step - loss: 0.3434 - accuracy: 0.8996 - val_loss: 0.3666 - val_accuracy: 0.8975\n",
            "Epoch 95/100\n",
            "2727/2727 [==============================] - 11s 4ms/step - loss: 0.3420 - accuracy: 0.8999 - val_loss: 0.3653 - val_accuracy: 0.8989\n",
            "Epoch 96/100\n",
            "2727/2727 [==============================] - 11s 4ms/step - loss: 0.3425 - accuracy: 0.8998 - val_loss: 0.3815 - val_accuracy: 0.8941\n",
            "Epoch 97/100\n",
            "2727/2727 [==============================] - 12s 4ms/step - loss: 0.3414 - accuracy: 0.9003 - val_loss: 0.3630 - val_accuracy: 0.8999\n",
            "Epoch 98/100\n",
            "2727/2727 [==============================] - 11s 4ms/step - loss: 0.3415 - accuracy: 0.9004 - val_loss: 0.3863 - val_accuracy: 0.8875\n",
            "Epoch 99/100\n",
            "2727/2727 [==============================] - 12s 4ms/step - loss: 0.3419 - accuracy: 0.8999 - val_loss: 0.3691 - val_accuracy: 0.8960\n",
            "Epoch 100/100\n",
            "2727/2727 [==============================] - 12s 4ms/step - loss: 0.3405 - accuracy: 0.9005 - val_loss: 0.4239 - val_accuracy: 0.8703\n"
          ]
        }
      ]
    },
    {
      "cell_type": "code",
      "metadata": {
        "id": "NZ9Fucz5f8tG"
      },
      "source": [
        "model.save('snake.h5')"
      ],
      "execution_count": 13,
      "outputs": []
    },
    {
      "cell_type": "code",
      "metadata": {
        "id": "yth6DVOYgSnI"
      },
      "source": [
        ""
      ],
      "execution_count": null,
      "outputs": []
    }
  ]
}